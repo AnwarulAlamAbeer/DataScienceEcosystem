{
 "cells": [
  {
   "cell_type": "markdown",
   "id": "ed8aa358-9b4d-4f02-918c-566211cc152f",
   "metadata": {},
   "source": [
    "# Data Science Tools and Ecosystem"
   ]
  },
  {
   "cell_type": "markdown",
   "id": "24bc29f5-20ec-45b7-889f-0038b41244eb",
   "metadata": {},
   "source": [
    "In this notebook, Data Science Tools and Ecosystem are summarized."
   ]
  },
  {
   "cell_type": "markdown",
   "id": "ed64ab1b-b82e-47e7-9f92-f01e582d2aa1",
   "metadata": {},
   "source": [
    "Objectives:\n",
    "* List popular languages for Data Science\n",
    "* List popular libraries for Data Science\n",
    "* Usinng markdown to create table"
   ]
  },
  {
   "cell_type": "markdown",
   "id": "a49f47fa-4be6-412a-814f-2df6f448be04",
   "metadata": {},
   "source": [
    "Some of the popular languages that Data Scientists use are:\n",
    "1. Python\n",
    "2. R\n",
    "3. Scala"
   ]
  },
  {
   "cell_type": "markdown",
   "id": "48e8bf74-8ec6-4d36-90a9-718b6e48be48",
   "metadata": {},
   "source": [
    "Some of the commonly used libraries used by Data Scientists include:\n",
    "1. Numpy\n",
    "2. Pandas\n",
    "3. Matplotlib\n"
   ]
  },
  {
   "cell_type": "markdown",
   "id": "b0c19243-e8cb-49be-b127-f66ece7e15ff",
   "metadata": {},
   "source": [
    "|Data Science Tools|\n",
    "|-----------------|\n",
    "|Jupyter Notebook|\n",
    "|RStudio|\n",
    "|VS Code|\n"
   ]
  },
  {
   "cell_type": "markdown",
   "id": "f3c2868a-f5e8-42b9-b409-cdc8554ec37f",
   "metadata": {},
   "source": [
    "Below are a few examples of evaluating arithmetic expressions in Python"
   ]
  },
  {
   "cell_type": "code",
   "execution_count": 4,
   "id": "6da65a33-ac85-4ac5-8eb7-b8403838d591",
   "metadata": {},
   "outputs": [
    {
     "data": {
      "text/plain": [
       "17"
      ]
     },
     "execution_count": 4,
     "metadata": {},
     "output_type": "execute_result"
    }
   ],
   "source": [
    "(3*4)+5"
   ]
  },
  {
   "cell_type": "markdown",
   "id": "22857cd4-6a92-4654-b1a8-936e3b2306e6",
   "metadata": {},
   "source": [
    "This will convert 200 minutes to hours by diving by 60"
   ]
  },
  {
   "cell_type": "code",
   "execution_count": 6,
   "id": "92c35e23-1e0d-4210-896a-4b03e9be8cae",
   "metadata": {},
   "outputs": [
    {
     "name": "stdout",
     "output_type": "stream",
     "text": [
      "200 minutes is 3.3333333333333335 hours\n"
     ]
    }
   ],
   "source": [
    "print(f\"200 minutes is {200/60} hours\")"
   ]
  },
  {
   "cell_type": "markdown",
   "id": "911a7303-ca6c-457d-9911-746b0667642a",
   "metadata": {},
   "source": [
    "## Author\n",
    "Abeer\n"
   ]
  }
 ],
 "metadata": {
  "kernelspec": {
   "display_name": "Python 3 (ipykernel)",
   "language": "python",
   "name": "python3"
  },
  "language_info": {
   "codemirror_mode": {
    "name": "ipython",
    "version": 3
   },
   "file_extension": ".py",
   "mimetype": "text/x-python",
   "name": "python",
   "nbconvert_exporter": "python",
   "pygments_lexer": "ipython3",
   "version": "3.12.7"
  }
 },
 "nbformat": 4,
 "nbformat_minor": 5
}
